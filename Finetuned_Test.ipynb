{
 "cells": [
  {
   "cell_type": "code",
   "execution_count": 1,
   "metadata": {},
   "outputs": [
    {
     "name": "stdout",
     "output_type": "stream",
     "text": [
      "Requirement already satisfied: transformers in c:\\python312\\lib\\site-packages (4.45.2)\n",
      "Requirement already satisfied: torch in c:\\python312\\lib\\site-packages (2.4.1)\n",
      "Requirement already satisfied: filelock in c:\\python312\\lib\\site-packages (from transformers) (3.16.1)\n",
      "Requirement already satisfied: huggingface-hub<1.0,>=0.23.2 in c:\\python312\\lib\\site-packages (from transformers) (0.25.2)\n",
      "Requirement already satisfied: numpy>=1.17 in c:\\python312\\lib\\site-packages (from transformers) (1.26.4)\n",
      "Requirement already satisfied: packaging>=20.0 in c:\\users\\dinon\\appdata\\roaming\\python\\python312\\site-packages (from transformers) (24.0)\n",
      "Requirement already satisfied: pyyaml>=5.1 in c:\\python312\\lib\\site-packages (from transformers) (6.0.1)\n",
      "Requirement already satisfied: regex!=2019.12.17 in c:\\python312\\lib\\site-packages (from transformers) (2024.9.11)\n",
      "Requirement already satisfied: requests in c:\\python312\\lib\\site-packages (from transformers) (2.32.3)\n",
      "Requirement already satisfied: safetensors>=0.4.1 in c:\\python312\\lib\\site-packages (from transformers) (0.4.5)\n",
      "Requirement already satisfied: tokenizers<0.21,>=0.20 in c:\\python312\\lib\\site-packages (from transformers) (0.20.1)\n",
      "Requirement already satisfied: tqdm>=4.27 in c:\\python312\\lib\\site-packages (from transformers) (4.66.2)\n",
      "Requirement already satisfied: typing-extensions>=4.8.0 in c:\\python312\\lib\\site-packages (from torch) (4.12.2)\n",
      "Requirement already satisfied: sympy in c:\\python312\\lib\\site-packages (from torch) (1.13.3)\n",
      "Requirement already satisfied: networkx in c:\\python312\\lib\\site-packages (from torch) (3.4.1)\n",
      "Requirement already satisfied: jinja2 in c:\\python312\\lib\\site-packages (from torch) (3.1.4)\n",
      "Requirement already satisfied: fsspec in c:\\python312\\lib\\site-packages (from torch) (2024.9.0)\n",
      "Requirement already satisfied: setuptools in c:\\python312\\lib\\site-packages (from torch) (69.5.1)\n",
      "Requirement already satisfied: colorama in c:\\users\\dinon\\appdata\\roaming\\python\\python312\\site-packages (from tqdm>=4.27->transformers) (0.4.6)\n",
      "Requirement already satisfied: MarkupSafe>=2.0 in c:\\python312\\lib\\site-packages (from jinja2->torch) (2.1.5)\n",
      "Requirement already satisfied: charset-normalizer<4,>=2 in c:\\python312\\lib\\site-packages (from requests->transformers) (3.3.2)\n",
      "Requirement already satisfied: idna<4,>=2.5 in c:\\python312\\lib\\site-packages (from requests->transformers) (2.10)\n",
      "Requirement already satisfied: urllib3<3,>=1.21.1 in c:\\python312\\lib\\site-packages (from requests->transformers) (2.2.1)\n",
      "Requirement already satisfied: certifi>=2017.4.17 in c:\\python312\\lib\\site-packages (from requests->transformers) (2024.7.4)\n",
      "Requirement already satisfied: mpmath<1.4,>=1.1.0 in c:\\python312\\lib\\site-packages (from sympy->torch) (1.3.0)\n",
      "Note: you may need to restart the kernel to use updated packages.\n"
     ]
    },
    {
     "name": "stderr",
     "output_type": "stream",
     "text": [
      "\n",
      "[notice] A new release of pip is available: 23.2.1 -> 24.3.1\n",
      "[notice] To update, run: python.exe -m pip install --upgrade pip\n"
     ]
    }
   ],
   "source": [
    "pip install transformers torch"
   ]
  },
  {
   "cell_type": "code",
   "execution_count": 2,
   "metadata": {},
   "outputs": [
    {
     "name": "stderr",
     "output_type": "stream",
     "text": [
      "c:\\Python312\\Lib\\site-packages\\tqdm\\auto.py:21: TqdmWarning: IProgress not found. Please update jupyter and ipywidgets. See https://ipywidgets.readthedocs.io/en/stable/user_install.html\n",
      "  from .autonotebook import tqdm as notebook_tqdm\n"
     ]
    }
   ],
   "source": [
    "from transformers import AutoTokenizer, AutoModelForSeq2SeqLM\n"
   ]
  },
  {
   "cell_type": "code",
   "execution_count": 3,
   "metadata": {},
   "outputs": [],
   "source": [
    "# Path to the directory where your model files are saved\n",
    "# Update this with the local path where you've unzipped your model\n",
    "model_path = \"C:/Users/dinon/Desktop/Summary/flan_t5_finetuned_model-20241114T172316Z-001/flan_t5_finetuned_model\""
   ]
  },
  {
   "cell_type": "code",
   "execution_count": 4,
   "metadata": {},
   "outputs": [],
   "source": [
    "\n",
    "# Load the tokenizer and model\n",
    "tokenizer = AutoTokenizer.from_pretrained(model_path)\n",
    "model = AutoModelForSeq2SeqLM.from_pretrained(model_path)\n"
   ]
  },
  {
   "cell_type": "code",
   "execution_count": 5,
   "metadata": {},
   "outputs": [],
   "source": [
    "\n",
    "# Define the text you want to summarize\n",
    "test_text = \"\"\"\n",
    "issues pertaining to biology understanding biological diversity at present our planet is rich in diversity life on earth formed around 35 billion years ago the first formed organisms are believed to be heterotrophic anaerobic prokaryotes since then the evolutionary process resulted in the extensive biodiversity which exists in the biosphere now scientists assume based on their studies that there are about 10 million to over 100 million species in the world there is a dynamic relationship between the living world and the inanimate world and each and every organism has a specific role in the environment for existence of the biosphere the variety of life on earth the number of species of plants animals and microorganisms the diversity of genes in these species the different ecosystems on the earth such as deserts rainforests and coral reefs are all part of a biologically diverse earth understanding the human body and its functions when studying biology especially by studying histology and anatomy of the human body one can gain knowledge about the structure of organs this results in understanding and appreciation of the organization of the human body and understanding the functions of different organ systems and the relationship between structure and functions sustainable use and management of natural resources and environment natural resources are sources of materials and energy found naturally which are used in everyday life and for economic development these natural resources are limited on earth due to the increase of growth rate of human population overuse of natural resources is taking place it causes threat of depletion of natural resources due to over exploitation of natural resources various environmental problems arise such as environmental pollution loss of biodiversity desertification hence to overcome the above problems management of natural resources and environment should be practiced knowledge of biology is useful to bring about remedies for the above problems sustainable food production sustainable food production is the production of sufficient amounts of food for the human population using environmentally safe methods the current human population is about 7 billion and expected to be double in less than 40 years therefore for the survival of human beings sustainable food production is necessary to maintain sustainable food production following methods can be applied which are based on knowledge in biology production of high yielding varieties of plants and animals production of disease resistant varieties of plants and animals improve the postharvest technological methods understanding plant life plants are the primary producers in the world all the animals depend directly or indirectly on plants therefore understanding plant life is important as time passes the human population increases hence productivity must be increased therefore understanding plant biology is essential for producing high yielding plants disease resistant plants etc understanding diseases and causes to maintain a healthy human body one should have the knowledge of the causes of the diseases and their effects some dangerous diseases which exist in the current world are noncommunicable diseases such as cancers heart diseases diabetes chronic renal diseases and communicable diseases such as dengue aids etc cancers causes for this is not fully understood yet cancers are one of the leading causes of death aids is a viral disease which is a serious and growing health problem worldwide heart diseases this is also a serious and growing health problem worldwide causes are not fully understood yet chronic renal diseases in sri lanka recently ckdu has become a serious health problem currently scientists are working on prevention remedial measures and cures for such diseases solving some legal and ethical issues knowledge and application of biological concepts is important in solving some legal issues such as parentage testing in criminal investigations and to solve immigration disputes dna fingerprinting is used in above circumstances\n",
    "\"\"\"\n",
    "\n"
   ]
  },
  {
   "cell_type": "code",
   "execution_count": null,
   "metadata": {},
   "outputs": [],
   "source": [
    "# Tokenize the input text\n",
    "inputs = tokenizer(\"summarize: \" + test_text, return_tensors=\"pt\", max_length=512, truncation=True)"
   ]
  },
  {
   "cell_type": "code",
   "execution_count": 7,
   "metadata": {},
   "outputs": [],
   "source": [
    "\n",
    "# Generate the summary\n",
    "summary_ids = model.generate(inputs[\"input_ids\"], max_length=150, min_length=30, length_penalty=2.0, num_beams=4, early_stopping=True)\n",
    "summary = tokenizer.decode(summary_ids[0], skip_special_tokens=True)\n"
   ]
  },
  {
   "cell_type": "code",
   "execution_count": 8,
   "metadata": {},
   "outputs": [
    {
     "name": "stdout",
     "output_type": "stream",
     "text": [
      "Generated Summary: understanding biological diversity at present our planet is rich in diversity life on earth formed around 35 billion years ago the first formed organisms are believed to be heterotrophic anaerobic prokaryotes a dynamic relationship between the living world and the inanimate world and each and every organism has a specific role in the environment for existence of the biosphere the number of species of plants animals and microorganisms the diversity of genes in these species the different ecosystems on the earth such as deserts rainforests and coral reefs are all part of a biologically diverse earth understanding the human body and its functions sustainable use and management of natural resources and environment sustainable food production sustainable food production is the production of sufficient amounts\n"
     ]
    }
   ],
   "source": [
    "\n",
    "# Print the generated summary\n",
    "print(\"Generated Summary:\", summary)"
   ]
  }
 ],
 "metadata": {
  "kernelspec": {
   "display_name": "Python 3",
   "language": "python",
   "name": "python3"
  },
  "language_info": {
   "codemirror_mode": {
    "name": "ipython",
    "version": 3
   },
   "file_extension": ".py",
   "mimetype": "text/x-python",
   "name": "python",
   "nbconvert_exporter": "python",
   "pygments_lexer": "ipython3",
   "version": "3.12.1"
  }
 },
 "nbformat": 4,
 "nbformat_minor": 2
}
