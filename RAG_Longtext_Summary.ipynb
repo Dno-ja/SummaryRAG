{
 "cells": [
  {
   "cell_type": "code",
   "execution_count": 1,
   "metadata": {},
   "outputs": [],
   "source": [
    "import pandas as pd"
   ]
  },
  {
   "cell_type": "code",
   "execution_count": 2,
   "metadata": {},
   "outputs": [],
   "source": [
    "# Load the notes dataset\n",
    "notes_df = pd.read_csv('C:/Users/dinon/Desktop/Summary/biology_information_retrieval_sample.csv', encoding='ISO-8859-1')  # Update with the correct file path\n",
    "notes_content = notes_df['Text Content'].tolist()\n",
    "notes_topics = notes_df['Topic'].tolist()\n",
    "notes_subtopics = notes_df['Sub-topic'].tolist()"
   ]
  },
  {
   "cell_type": "code",
   "execution_count": 3,
   "metadata": {},
   "outputs": [],
   "source": [
    "# Load the summarization dataset\n",
    "summary_df = pd.read_csv('C:/Users/dinon/Desktop/Summary/bio_summary_key.csv', encoding='ISO-8859-1')\n",
    "long_texts = summary_df['longtext'].tolist()\n",
    "summaries = summary_df['summary'].tolist()\n",
    "keywords = summary_df['keywords'].tolist()"
   ]
  },
  {
   "cell_type": "code",
   "execution_count": 4,
   "metadata": {},
   "outputs": [
    {
     "name": "stdout",
     "output_type": "stream",
     "text": [
      "Requirement already satisfied: sentence-transformers in c:\\python312\\lib\\site-packages (3.3.0)\n",
      "Requirement already satisfied: faiss-cpu in c:\\python312\\lib\\site-packages (1.9.0)\n",
      "Requirement already satisfied: transformers<5.0.0,>=4.41.0 in c:\\python312\\lib\\site-packages (from sentence-transformers) (4.45.2)\n",
      "Requirement already satisfied: tqdm in c:\\python312\\lib\\site-packages (from sentence-transformers) (4.66.2)\n",
      "Requirement already satisfied: torch>=1.11.0 in c:\\python312\\lib\\site-packages (from sentence-transformers) (2.4.1)\n",
      "Requirement already satisfied: scikit-learn in c:\\python312\\lib\\site-packages (from sentence-transformers) (1.5.1)\n",
      "Requirement already satisfied: scipy in c:\\python312\\lib\\site-packages (from sentence-transformers) (1.14.0)\n",
      "Requirement already satisfied: huggingface-hub>=0.20.0 in c:\\python312\\lib\\site-packages (from sentence-transformers) (0.25.2)\n",
      "Requirement already satisfied: Pillow in c:\\python312\\lib\\site-packages (from sentence-transformers) (10.3.0)\n",
      "Requirement already satisfied: numpy<3.0,>=1.25.0 in c:\\python312\\lib\\site-packages (from faiss-cpu) (1.26.4)\n",
      "Requirement already satisfied: packaging in c:\\users\\dinon\\appdata\\roaming\\python\\python312\\site-packages (from faiss-cpu) (24.0)\n",
      "Requirement already satisfied: filelock in c:\\python312\\lib\\site-packages (from huggingface-hub>=0.20.0->sentence-transformers) (3.16.1)\n",
      "Requirement already satisfied: fsspec>=2023.5.0 in c:\\python312\\lib\\site-packages (from huggingface-hub>=0.20.0->sentence-transformers) (2024.9.0)\n",
      "Requirement already satisfied: pyyaml>=5.1 in c:\\python312\\lib\\site-packages (from huggingface-hub>=0.20.0->sentence-transformers) (6.0.1)\n",
      "Requirement already satisfied: requests in c:\\python312\\lib\\site-packages (from huggingface-hub>=0.20.0->sentence-transformers) (2.32.3)\n",
      "Requirement already satisfied: typing-extensions>=3.7.4.3 in c:\\python312\\lib\\site-packages (from huggingface-hub>=0.20.0->sentence-transformers) (4.12.2)\n",
      "Requirement already satisfied: sympy in c:\\python312\\lib\\site-packages (from torch>=1.11.0->sentence-transformers) (1.13.3)\n",
      "Requirement already satisfied: networkx in c:\\python312\\lib\\site-packages (from torch>=1.11.0->sentence-transformers) (3.4.1)\n",
      "Requirement already satisfied: jinja2 in c:\\python312\\lib\\site-packages (from torch>=1.11.0->sentence-transformers) (3.1.4)\n",
      "Requirement already satisfied: setuptools in c:\\python312\\lib\\site-packages (from torch>=1.11.0->sentence-transformers) (69.5.1)\n",
      "Requirement already satisfied: colorama in c:\\users\\dinon\\appdata\\roaming\\python\\python312\\site-packages (from tqdm->sentence-transformers) (0.4.6)\n",
      "Requirement already satisfied: regex!=2019.12.17 in c:\\python312\\lib\\site-packages (from transformers<5.0.0,>=4.41.0->sentence-transformers) (2024.9.11)\n",
      "Requirement already satisfied: safetensors>=0.4.1 in c:\\python312\\lib\\site-packages (from transformers<5.0.0,>=4.41.0->sentence-transformers) (0.4.5)\n",
      "Requirement already satisfied: tokenizers<0.21,>=0.20 in c:\\python312\\lib\\site-packages (from transformers<5.0.0,>=4.41.0->sentence-transformers) (0.20.1)\n",
      "Requirement already satisfied: joblib>=1.2.0 in c:\\python312\\lib\\site-packages (from scikit-learn->sentence-transformers) (1.4.2)\n",
      "Requirement already satisfied: threadpoolctl>=3.1.0 in c:\\python312\\lib\\site-packages (from scikit-learn->sentence-transformers) (3.5.0)\n",
      "Requirement already satisfied: MarkupSafe>=2.0 in c:\\python312\\lib\\site-packages (from jinja2->torch>=1.11.0->sentence-transformers) (2.1.5)\n",
      "Requirement already satisfied: charset-normalizer<4,>=2 in c:\\python312\\lib\\site-packages (from requests->huggingface-hub>=0.20.0->sentence-transformers) (3.3.2)\n",
      "Requirement already satisfied: idna<4,>=2.5 in c:\\python312\\lib\\site-packages (from requests->huggingface-hub>=0.20.0->sentence-transformers) (2.10)\n",
      "Requirement already satisfied: urllib3<3,>=1.21.1 in c:\\python312\\lib\\site-packages (from requests->huggingface-hub>=0.20.0->sentence-transformers) (2.2.1)\n",
      "Requirement already satisfied: certifi>=2017.4.17 in c:\\python312\\lib\\site-packages (from requests->huggingface-hub>=0.20.0->sentence-transformers) (2024.7.4)\n",
      "Requirement already satisfied: mpmath<1.4,>=1.1.0 in c:\\python312\\lib\\site-packages (from sympy->torch>=1.11.0->sentence-transformers) (1.3.0)\n",
      "Note: you may need to restart the kernel to use updated packages.\n"
     ]
    },
    {
     "name": "stderr",
     "output_type": "stream",
     "text": [
      "\n",
      "[notice] A new release of pip is available: 23.2.1 -> 24.3.1\n",
      "[notice] To update, run: python.exe -m pip install --upgrade pip\n"
     ]
    }
   ],
   "source": [
    "pip install sentence-transformers faiss-cpu"
   ]
  },
  {
   "cell_type": "code",
   "execution_count": 5,
   "metadata": {},
   "outputs": [
    {
     "name": "stderr",
     "output_type": "stream",
     "text": [
      "c:\\Python312\\Lib\\site-packages\\tqdm\\auto.py:21: TqdmWarning: IProgress not found. Please update jupyter and ipywidgets. See https://ipywidgets.readthedocs.io/en/stable/user_install.html\n",
      "  from .autonotebook import tqdm as notebook_tqdm\n"
     ]
    }
   ],
   "source": [
    "from sentence_transformers import SentenceTransformer\n",
    "import numpy as np\n",
    "import faiss\n",
    "\n",
    "# Load embedding model\n",
    "embedder = SentenceTransformer('all-MiniLM-L6-v2')\n",
    "\n",
    "# Generate embeddings for summarization dataset (long texts)\n",
    "summary_embeddings = embedder.encode(long_texts)\n",
    "\n",
    "# Generate embeddings for notes dataset\n",
    "notes_embeddings = embedder.encode(notes_content)\n",
    "\n",
    "# Combine all content and embeddings for FAISS indexing\n",
    "all_content = long_texts + notes_content\n",
    "all_embeddings = np.concatenate([summary_embeddings, notes_embeddings], axis=0)\n",
    "\n",
    "# Convert embeddings to a float32 NumPy array\n",
    "all_embeddings_array = np.array(all_embeddings).astype(\"float32\")\n",
    "\n",
    "# Create and populate the FAISS index\n",
    "common_index = faiss.IndexFlatL2(all_embeddings_array.shape[1])\n",
    "common_index.add(all_embeddings_array)"
   ]
  },
  {
   "cell_type": "code",
   "execution_count": 6,
   "metadata": {},
   "outputs": [],
   "source": [
    "def generate_summary_for_keyword(query, max_words=150):\n",
    "    # Retrieve similar content from the common index\n",
    "    similar_content = retrieve_similar_content(query, k=5)\n",
    "    \n",
    "    # Construct context from retrieved content\n",
    "    context = \"\"\n",
    "    for item in similar_content:\n",
    "        if item['type'] == 'summary':\n",
    "            context += f\"Keyword: {item['keyword']}\\nLong Text: {item['long_text']}\\n\\n\"\n",
    "        elif item['type'] == 'note':\n",
    "            context += f\"Topic: {item['topic']} - {item['sub_topic']}\\nContent: {item['content']}\\n\\n\"\n",
    "    \n",
    "    # Generate the prompt with query and context for summarization\n",
    "    prompt = f\"Summarize the following content related to '{query}':\\n{context}\\nSummary:\"\n",
    "    \n",
    "    # Tokenize the prompt\n",
    "    inputs = tokenizer(prompt, return_tensors=\"pt\", max_length=512, truncation=True)\n",
    "    \n",
    "    # Generate the summary\n",
    "    summary_ids = model.generate(inputs[\"input_ids\"], max_length=max_words, min_length=50, length_penalty=2.0, num_beams=4, early_stopping=True)\n",
    "    summary = tokenizer.decode(summary_ids[0], skip_special_tokens=True)\n",
    "    \n",
    "    return summary\n"
   ]
  },
  {
   "cell_type": "code",
   "execution_count": 7,
   "metadata": {},
   "outputs": [],
   "source": [
    "def generate_summary_for_long_text(long_text, max_words=150):\n",
    "    # Create a prompt for summarizing the long text\n",
    "    prompt = f\"Summarize the following text:\\n{long_text}\\nSummary:\"\n",
    "    \n",
    "    # Tokenize the prompt\n",
    "    inputs = tokenizer(prompt, return_tensors=\"pt\", max_length=512, truncation=True)\n",
    "    \n",
    "    # Generate the summary\n",
    "    summary_ids = model.generate(inputs[\"input_ids\"], max_length=max_words, min_length=50, length_penalty=2.0, num_beams=4, early_stopping=True)\n",
    "    summary = tokenizer.decode(summary_ids[0], skip_special_tokens=True)\n",
    "    \n",
    "    return summary\n"
   ]
  },
  {
   "cell_type": "code",
   "execution_count": 10,
   "metadata": {},
   "outputs": [],
   "source": [
    "from transformers import AutoTokenizer, AutoModelForSeq2SeqLM\n",
    "\n",
    "# Path to your fine-tuned model\n",
    "model_path = 'C:/Users/dinon/Desktop/Summary/flan_t5_finetuned_model-20241114T172316Z-001/flan_t5_finetuned_model'  # Update with the correct path\n",
    "\n",
    "# Load the tokenizer and model\n",
    "tokenizer = AutoTokenizer.from_pretrained(model_path)\n",
    "model = AutoModelForSeq2SeqLM.from_pretrained(model_path)\n"
   ]
  },
  {
   "cell_type": "code",
   "execution_count": 11,
   "metadata": {},
   "outputs": [],
   "source": [
    "# Test with a long text\n",
    "sample_long_text = \"\"\"\n",
    "as its name suggests rubisco is capable of catalyzing two distinct reactions acting as both a carboxylase and as an oxygenase in the oxygenase reaction of rubisco uses the same substrate rubp but reacts it with o 2 the reaction is catalyzed on the same active site as the carboxylation reaction thus co 2 and o2 are competitive substrates therefore co2 inhibits the oxygenase and o 2 inhibits the carboxylase reaction the oxygenase reaction forms just one molecule of 3pga plus a twocarbon product 2phosphoglycolate which is of no immediate use in the calvin cycle and in higher concentrations it is toxic for the plant it therefore has to be processed in a metabolic pathway called photorespiration the photorespiratory pathway involves enzymes in the chloroplasts peroxisome and mitochondria detail of this pathway is not expected photorespiration is not only energy demanding but furthermore leads to a net loss of co 2 each time rubisco reacts with o2 instead of co2 the plants makes 50 less 3pga than it would have done if co 2 had been used this potentially eliminates the net gain in photosynthetic carbon and loose the productivity these two factors result in an increase in photorespiration relative to photosynthesis so that an increasing proportion of carbon is lost as the temperature rises the co 2 required for photosynthesis enters a leaf via stomata however stomata are also the main avenues of transpiration on a hot dry day most plants close their stomata in order to conserves water at the same time o 2 released from the light reactions begins to increase and this leads to further reduction of co2 to o2 ratio in the cytosol these conditions within the leaf favor a wasteful process photorespiration under high temperature dryness and high light intensities therefore plants developed different way to cope with this situation during the evolution that resulted a most successful solution to concentrate co 2 around rubisco provided by c4 photosynthetic pathway the establishment of c4 photosynthetic pathway includes several biochemical and anatomical modifications that allow plants with this pathway to concentrate co2 at the site of rubisco thereby its oxygenase reaction and the following photorespiration are largely repressed in c4 plants in most c4 plants the co2 concentration mechanism is achieved by a division of labor between two distinct specialized leaf cell types the mesophyll and the bundle sheath cells compared to c3 plants the bundle sheath cells of c4 plants have expanded physiological functions this is reflected by the enlargement and higher organelle content of these cells in c4 species for the efficient function of the c4 pathway a close contact between mesophyll and bundle sheath cells are tightly interconnected to each other by high numbers of plasmodesmata the bundle sheath cells enclose the vascular bundles and are themselves surrounded by the mesophyll cells and this type of leaf anatomy was termed kranz anatomy since rubisco can operate under high co2 concentrations in the bundle sheath cells it works more efficiently than in c3 plants because of the co2 concentration mechanism they can acquire enough co2 even when keeping their stomata more closed and minimize the water loss by transpiration c4 pathway of photosynthesis in the mesophyll cells of c4 plants co2 is converted to bicarbonate by carbonic anhydrase and initially fixed by phosphoenolpyruvate carboxylase using pep as co2 acceptor the resulting oxaloacetate oaa is composed of four carbon atoms which is the basis for the name of this metabolic pathway oxaloacetate is rapidly converted to the more stable c4 acids malate or aspartate that diffuse to the bundle sheath cells here co2 is released by decarboxylating enzymes and the released co2 is refixed by rubisco which exclusively operates in the bundle sheath cells in c4 plants chloroplasts found in mesophyll cells are different in anatomy in comparison to chloroplasts of bundle sheath cells since chloroplasts of mesophyll cells carryout only light reaction they are rich in grana the grana of mesophyll chloroplasts are large and highly differentiated for light reaction bundle sheath chloroplasts possess a very few less differentiated grana or grana are absent moreover that psii in the bundle sheath cells are depleted in order to lower oxygen production in these cells this pep carboxylase enzyme is much more efficient than the enzyme of rubp carboxylase for two reasons 1 it reacts with bicarbonate hco3 rather than with co2 the advantage of this is that there is a 50fold higher concentration of hco3 than co2 in solution in the cytosol 2 it has no affinity for o2 significance of the c4 pathway helps plants to improve the efficiency of co2 fixation at lower co2concentrations by preventing the gateways for photorespiration by spatially separating rubisco in hotdry climate it is essential for the stomata to close to prevent water loss through transpiration this reduces co2 intake of particular plants therefore plants in tropical zones or hot climate may suffer from co2 deficiency at lower co2 concentrations c4 mechanism increases the efficiency of photosynthesis by concentrating co2 in the bundle sheath cells c4 plants exhibit better wateruse efficiency than c3 plants because of the co2 concentration mechanism they can acquire enough co2 even when keeping their stomata more closed thus water loss by transpiration is reduced since rubisco can operate under high co2 concentrations in the bundle sheath cells it woks more efficiently than in c3 plants consequently c4 plants need less of this enzyme this leads to a better nitrogenuse efficiency of c4 compared to c3 plants comparisons of c3 and c4 plants c3 plants such as wheat rice and barley have an optimum temperature for photosynthesis between 1525c in these plants co fixation occurs only once with the co acceptor being a 5carbon compound called rubp the enzyme responsible for fixing co is rubisco which produces a 3carbon compound 3phosphoglycerate 3pga as the first product the leaf anatomy in c3 plants involves mesophyll cells where photosynthesis occurs with nongreen bundle sheath cells c3 plants typically have lower productivity c4 plants including maize sugarcane and grasses thrive in higher temperatures with photosynthesis being 50 more efficient at 35c co fixation occurs twice first in the mesophyll cells and then in the bundle sheath cells the initial co acceptor is a 3carbon compound pep in the mesophyll cells and rubp in the bundle sheath cells pep carboxylase an efficient enzyme fixes co in the mesophyll while rubisco operates efficiently under high co concentrations in the bundle sheath cells the first product of co fixation in c4 plants is a 4carbon acid oxaloacetate oaa c4 plants have kranz anatomy where photosynthesis occurs in both mesophyll and bundle sheath cells they are generally more productive yielding higher outputs than c3 plants factors affecting photosynthesis the rate of photosynthesis is an important factor in crop production rate is affected by various factors eg light intensity co2 concentration temperature water pollutants and inhibitors the photosynthesis involves a series of reactions therefore various factors are involved in it blackman who is the scientist first proposed the idea of principal of limiting factors when a chemical process is affected by more than one factor its rate is limited by the factor which is nearest its minimum value eg light intensity light intensity the rate of photosynthesis increases linearly with increasing light intensity gradually the rate of increase falls off as the other factors become limiting very high light intensities chlorophyll may bleach and slow down photosynthesis however plants exposed to such conditions are usually protected by devices such as thick cuticles hairy leaves under normal conditions co2 is the major limiting factor in photosynthesis increase in photosynthetic rate is achieved by increasing co2 concentration for example some greenhouse crops such as tomatoes are grown in co2 enriched atmosphere\n",
    "\"\"\"\n"
   ]
  },
  {
   "cell_type": "code",
   "execution_count": 12,
   "metadata": {},
   "outputs": [
    {
     "name": "stdout",
     "output_type": "stream",
     "text": [
      "Generated Summary for Long Text:\n",
      "c4 photosynthetic pathway is a biochemical and anatomical modification that allows plants to concentrate co2 at the site of rubisco thereby its oxygenase c4 photosynthetic pathway is a biochemical and anatomical modification that allows plants to concentrate co2 at the site of rubisco thereby its oxygenase c4 photosynthetic pathway is a biochemical and anatomical modification that allows plants to concentrate co2 at the site of rubisco thereby its oxygenase c4 photosynthetic pathway is a biochemical and anatomical modification that allows plants to concentrate co2 at the site of rubisco\n"
     ]
    }
   ],
   "source": [
    "print(\"Generated Summary for Long Text:\")\n",
    "print(generate_summary_for_long_text(sample_long_text, max_words=150))\n"
   ]
  }
 ],
 "metadata": {
  "kernelspec": {
   "display_name": "Python 3",
   "language": "python",
   "name": "python3"
  },
  "language_info": {
   "codemirror_mode": {
    "name": "ipython",
    "version": 3
   },
   "file_extension": ".py",
   "mimetype": "text/x-python",
   "name": "python",
   "nbconvert_exporter": "python",
   "pygments_lexer": "ipython3",
   "version": "3.12.1"
  }
 },
 "nbformat": 4,
 "nbformat_minor": 2
}
